{
 "cells": [
  {
   "cell_type": "code",
   "execution_count": 3,
   "metadata": {},
   "outputs": [],
   "source": [
    "import numpy as np\n",
    "import pandas as pd\n",
    "import tensorflow as tf\n",
    "from tensorflow import feature_column\n",
    "from tensorflow import keras\n",
    "from tensorflow.keras import layers\n",
    "from matplotlib import pyplot as plt"
   ]
  },
  {
   "cell_type": "code",
   "execution_count": 4,
   "metadata": {},
   "outputs": [],
   "source": [
    "test_data_size=1000\n",
    "test_frac = 0.1\n",
    "input_size = 18\n",
    "output_size = 8"
   ]
  },
  {
   "cell_type": "markdown",
   "metadata": {},
   "source": [
    "input_size: 2 sets of 8 subjects + 2 indicators for activities\n",
    "output_size: 8 subject grades"
   ]
  },
  {
   "cell_type": "code",
   "execution_count": 5,
   "metadata": {},
   "outputs": [],
   "source": [
    "def scoremaker():\n",
    "    #empty scores represent the subjects that the student doesn't take\n",
    "    emptyScores = np.random.randint(low = 0, high = output_size, size=(3))        \n",
    "    \n",
    "    #randomly generate 2 sets of results. For different schools, scale the result accordingly\n",
    "    scores = np.random.randint(low = 50, high = 90, size=(output_size))\n",
    "    scores = scores + np.random.randint(low = -10, high = 10, size=(output_size))\n",
    "    scores2 = np.random.randint(low = 50, high = 90, size=(output_size))\n",
    "    scores2 = scores2 + np.random.randint(low = -10, high = 10, size=(output_size))\n",
    "    \n",
    "    #generate 2 values, 1 for humanities-related activities and one for science activities. More activities = higher score\n",
    "    activities = np.random.randint(low = 0, high = 10, size = (2))\n",
    "    \n",
    "    #generate fake labels for each listing.\n",
    "    scoreLabels = (scores + scores2) / 2\n",
    "    \n",
    "    #add activity score to labels for each subject\n",
    "    for i in range(output_size):\n",
    "        if(i < 4): scoreLabels[i] += activities[0]\n",
    "        else: scoreLabels[i] += activities[1]\n",
    "\n",
    "    scoreLabels = (scoreLabels - 40) / 60\n",
    "    \n",
    "    #make subjects empty\n",
    "    for i in emptyScores:\n",
    "        scores[i] = 0\n",
    "        scores2[i] = 0\n",
    "        scoreLabels[i] = 0\n",
    "        \n",
    "    return np.concatenate((scores, scores2, activities, scoreLabels))"
   ]
  },
  {
   "cell_type": "code",
   "execution_count": 6,
   "metadata": {},
   "outputs": [
    {
     "data": {
      "text/plain": [
       "array([92.        , 69.        , 72.        , 65.        ,  0.        ,\n",
       "        0.        , 73.        ,  0.        , 88.        , 74.        ,\n",
       "       58.        , 65.        ,  0.        ,  0.        , 83.        ,\n",
       "        0.        ,  6.        ,  2.        ,  0.93333333,  0.625     ,\n",
       "        0.51666667,  0.51666667,  0.        ,  0.        ,  0.66666667,\n",
       "        0.        ])"
      ]
     },
     "execution_count": 6,
     "metadata": {},
     "output_type": "execute_result"
    }
   ],
   "source": [
    "scoremaker()"
   ]
  },
  {
   "cell_type": "code",
   "execution_count": 7,
   "metadata": {},
   "outputs": [],
   "source": [
    "my_data = np.array([scoremaker() for i in range(test_data_size)])"
   ]
  },
  {
   "cell_type": "code",
   "execution_count": 9,
   "metadata": {},
   "outputs": [
    {
     "name": "stdout",
     "output_type": "stream",
     "text": [
      "[[41.          0.         69.         55.         62.         83.\n",
      "   0.         45.         70.          0.         82.         88.\n",
      "  62.         83.          0.         68.          7.          6.\n",
      "   0.375       0.          0.70833333  0.64166667  0.46666667  0.81666667\n",
      "   0.          0.375     ]\n",
      " [50.         89.          0.         75.         57.          0.\n",
      "   0.         61.         79.         94.          0.         54.\n",
      "  73.          0.          0.         86.          5.          3.\n",
      "   0.49166667  0.94166667  0.          0.49166667  0.46666667  0.\n",
      "   0.          0.60833333]\n",
      " [84.         70.          0.         64.         70.          0.\n",
      "  76.         88.         90.         46.          0.         82.\n",
      "  61.          0.         89.         47.          8.          5.\n",
      "   0.91666667  0.43333333  0.          0.68333333  0.50833333  0.\n",
      "   0.79166667  0.54166667]\n",
      " [ 0.         86.         52.          0.         77.          0.\n",
      "  84.         84.          0.         76.         75.          0.\n",
      "  62.          0.         61.         60.          9.          1.\n",
      "   0.          0.83333333  0.54166667  0.          0.50833333  0.\n",
      "   0.55833333  0.55      ]\n",
      " [67.         48.         85.         81.          0.         83.\n",
      "   0.          0.         74.         69.         82.         68.\n",
      "   0.         93.          0.          0.          1.          5.\n",
      "   0.525       0.325       0.74166667  0.59166667  0.          0.88333333\n",
      "   0.          0.        ]\n",
      " [ 0.          0.         75.         72.          0.         64.\n",
      "  71.         74.          0.          0.         75.         54.\n",
      "   0.         62.         63.         57.          4.          3.\n",
      "   0.          0.          0.65        0.45        0.          0.43333333\n",
      "   0.5         0.475     ]\n",
      " [ 0.          0.         49.         64.         73.          0.\n",
      "  71.         96.          0.          0.         65.         93.\n",
      "  86.          0.         54.         75.          9.          1.\n",
      "   0.          0.          0.43333333  0.79166667  0.675       0.\n",
      "   0.39166667  0.775     ]\n",
      " [ 0.          0.         56.         68.         93.         52.\n",
      "  75.          0.          0.          0.         87.         51.\n",
      "  77.         77.         88.          0.          4.          3.\n",
      "   0.          0.          0.59166667  0.39166667  0.8         0.45833333\n",
      "   0.74166667  0.        ]\n",
      " [89.         78.         77.          0.          0.          0.\n",
      "  61.         53.         52.         70.         59.          0.\n",
      "   0.          0.         97.         71.          3.          1.\n",
      "   0.55833333  0.61666667  0.51666667  0.          0.          0.\n",
      "   0.66666667  0.38333333]\n",
      " [76.         77.         69.         57.          0.         84.\n",
      "   0.         69.         90.         91.         71.         72.\n",
      "   0.         65.          0.         89.          0.          9.\n",
      "   0.71666667  0.73333333  0.5         0.40833333  0.          0.725\n",
      "   0.          0.8       ]]\n"
     ]
    }
   ],
   "source": [
    "print(my_data[:10])"
   ]
  },
  {
   "cell_type": "code",
   "execution_count": 87,
   "metadata": {},
   "outputs": [],
   "source": [
    "# inputs = keras.Input(shape=(input_size,), name=\"subjects\")\n",
    "# x = layers.Dense(20,activation='relu', name='Hidden1') (inputs)\n",
    "# x = layers.Dense(20,activation='relu', name='Hidden2') (x)\n",
    "# outputs = layers.Dense(output_size, activation=\"relu\", name=\"predictions\")(x)\n",
    "# model = keras.Model(inputs=inputs, outputs=outputs)"
   ]
  },
  {
   "cell_type": "code",
   "execution_count": 88,
   "metadata": {},
   "outputs": [],
   "source": [
    "model = keras.Sequential()\n",
    "model.add(keras.Input(shape=(input_size,), name=\"inputs\"))\n",
    "model.add(layers.Dense(20, activation='relu'))\n",
    "model.add(layers.Dense(output_size, activation=\"relu\", name=\"predictions\"))"
   ]
  },
  {
   "cell_type": "code",
   "execution_count": 89,
   "metadata": {},
   "outputs": [],
   "source": [
    "x_train = my_data[:,:input_size]\n",
    "\n",
    "x_train = (x_train - np.average(x_train, axis = 0))/np.std(x_train, axis = 0)\n",
    "\n",
    "y_train = my_data[:,input_size:]\n",
    "x_val = x_train[(int)((1-test_frac)*test_data_size):]\n",
    "y_val = y_train[(int)((1-test_frac)*test_data_size):]\n",
    "x_train = x_train[:(int)((1-test_frac)*test_data_size)]\n",
    "y_train = y_train[:(int)((1-test_frac)*test_data_size)]"
   ]
  },
  {
   "cell_type": "code",
   "execution_count": 90,
   "metadata": {},
   "outputs": [],
   "source": [
    "model.compile(\n",
    "    optimizer = keras.optimizers.Adam(),\n",
    "    loss = keras.losses.mean_squared_error,\n",
    "    metrics = [keras.metrics.mean_squared_error]\n",
    ")"
   ]
  },
  {
   "cell_type": "code",
   "execution_count": 91,
   "metadata": {},
   "outputs": [
    {
     "name": "stdout",
     "output_type": "stream",
     "text": [
      "Fit model on training data\n",
      "Epoch 1/100\n",
      "15/15 [==============================] - 0s 6ms/step - loss: 0.2872 - mean_squared_error: 0.2872 - val_loss: 0.2668 - val_mean_squared_error: 0.2668\n",
      "Epoch 2/100\n",
      "15/15 [==============================] - 0s 2ms/step - loss: 0.2167 - mean_squared_error: 0.2167 - val_loss: 0.2058 - val_mean_squared_error: 0.2058\n",
      "Epoch 3/100\n",
      "15/15 [==============================] - 0s 2ms/step - loss: 0.1783 - mean_squared_error: 0.1783 - val_loss: 0.1710 - val_mean_squared_error: 0.1710\n",
      "Epoch 4/100\n",
      "15/15 [==============================] - 0s 1ms/step - loss: 0.1545 - mean_squared_error: 0.1545 - val_loss: 0.1481 - val_mean_squared_error: 0.1481\n",
      "Epoch 5/100\n",
      "15/15 [==============================] - 0s 1ms/step - loss: 0.1381 - mean_squared_error: 0.1381 - val_loss: 0.1309 - val_mean_squared_error: 0.1309\n",
      "Epoch 6/100\n",
      "15/15 [==============================] - 0s 1ms/step - loss: 0.1249 - mean_squared_error: 0.1249 - val_loss: 0.1182 - val_mean_squared_error: 0.1182\n",
      "Epoch 7/100\n",
      "15/15 [==============================] - 0s 2ms/step - loss: 0.1146 - mean_squared_error: 0.1146 - val_loss: 0.1073 - val_mean_squared_error: 0.1073\n",
      "Epoch 8/100\n",
      "15/15 [==============================] - 0s 1ms/step - loss: 0.1055 - mean_squared_error: 0.1055 - val_loss: 0.0982 - val_mean_squared_error: 0.0982\n",
      "Epoch 9/100\n",
      "15/15 [==============================] - 0s 1ms/step - loss: 0.0973 - mean_squared_error: 0.0973 - val_loss: 0.0900 - val_mean_squared_error: 0.0900\n",
      "Epoch 10/100\n",
      "15/15 [==============================] - 0s 2ms/step - loss: 0.0896 - mean_squared_error: 0.0896 - val_loss: 0.0830 - val_mean_squared_error: 0.0830\n",
      "Epoch 11/100\n",
      "15/15 [==============================] - 0s 1ms/step - loss: 0.0825 - mean_squared_error: 0.0825 - val_loss: 0.0766 - val_mean_squared_error: 0.0766\n",
      "Epoch 12/100\n",
      "15/15 [==============================] - 0s 1ms/step - loss: 0.0760 - mean_squared_error: 0.0760 - val_loss: 0.0712 - val_mean_squared_error: 0.0712\n",
      "Epoch 13/100\n",
      "15/15 [==============================] - 0s 2ms/step - loss: 0.0703 - mean_squared_error: 0.0703 - val_loss: 0.0664 - val_mean_squared_error: 0.0664\n",
      "Epoch 14/100\n",
      "15/15 [==============================] - 0s 1ms/step - loss: 0.0649 - mean_squared_error: 0.0649 - val_loss: 0.0616 - val_mean_squared_error: 0.0616\n",
      "Epoch 15/100\n",
      "15/15 [==============================] - 0s 1ms/step - loss: 0.0594 - mean_squared_error: 0.0594 - val_loss: 0.0568 - val_mean_squared_error: 0.0568\n",
      "Epoch 16/100\n",
      "15/15 [==============================] - 0s 1ms/step - loss: 0.0545 - mean_squared_error: 0.0545 - val_loss: 0.0526 - val_mean_squared_error: 0.0526\n",
      "Epoch 17/100\n",
      "15/15 [==============================] - 0s 2ms/step - loss: 0.0501 - mean_squared_error: 0.0501 - val_loss: 0.0489 - val_mean_squared_error: 0.0489\n",
      "Epoch 18/100\n",
      "15/15 [==============================] - 0s 2ms/step - loss: 0.0465 - mean_squared_error: 0.0465 - val_loss: 0.0459 - val_mean_squared_error: 0.0459\n",
      "Epoch 19/100\n",
      "15/15 [==============================] - 0s 1ms/step - loss: 0.0433 - mean_squared_error: 0.0433 - val_loss: 0.0433 - val_mean_squared_error: 0.0433\n",
      "Epoch 20/100\n",
      "15/15 [==============================] - 0s 1ms/step - loss: 0.0401 - mean_squared_error: 0.0401 - val_loss: 0.0408 - val_mean_squared_error: 0.0408\n",
      "Epoch 21/100\n",
      "15/15 [==============================] - 0s 1ms/step - loss: 0.0375 - mean_squared_error: 0.0375 - val_loss: 0.0385 - val_mean_squared_error: 0.0385\n",
      "Epoch 22/100\n",
      "15/15 [==============================] - 0s 2ms/step - loss: 0.0352 - mean_squared_error: 0.0352 - val_loss: 0.0367 - val_mean_squared_error: 0.0367\n",
      "Epoch 23/100\n",
      "15/15 [==============================] - 0s 1ms/step - loss: 0.0331 - mean_squared_error: 0.0331 - val_loss: 0.0349 - val_mean_squared_error: 0.0349\n",
      "Epoch 24/100\n",
      "15/15 [==============================] - 0s 1ms/step - loss: 0.0314 - mean_squared_error: 0.0314 - val_loss: 0.0334 - val_mean_squared_error: 0.0334\n",
      "Epoch 25/100\n",
      "15/15 [==============================] - 0s 1ms/step - loss: 0.0298 - mean_squared_error: 0.0298 - val_loss: 0.0320 - val_mean_squared_error: 0.0320\n",
      "Epoch 26/100\n",
      "15/15 [==============================] - 0s 1ms/step - loss: 0.0284 - mean_squared_error: 0.0284 - val_loss: 0.0307 - val_mean_squared_error: 0.0307\n",
      "Epoch 27/100\n",
      "15/15 [==============================] - 0s 2ms/step - loss: 0.0271 - mean_squared_error: 0.0271 - val_loss: 0.0293 - val_mean_squared_error: 0.0293\n",
      "Epoch 28/100\n",
      "15/15 [==============================] - 0s 1ms/step - loss: 0.0259 - mean_squared_error: 0.0259 - val_loss: 0.0282 - val_mean_squared_error: 0.0282\n",
      "Epoch 29/100\n",
      "15/15 [==============================] - 0s 1ms/step - loss: 0.0248 - mean_squared_error: 0.0248 - val_loss: 0.0271 - val_mean_squared_error: 0.0271\n",
      "Epoch 30/100\n",
      "15/15 [==============================] - 0s 1ms/step - loss: 0.0238 - mean_squared_error: 0.0238 - val_loss: 0.0262 - val_mean_squared_error: 0.0262\n",
      "Epoch 31/100\n",
      "15/15 [==============================] - 0s 1ms/step - loss: 0.0229 - mean_squared_error: 0.0229 - val_loss: 0.0255 - val_mean_squared_error: 0.0255\n",
      "Epoch 32/100\n",
      "15/15 [==============================] - 0s 1ms/step - loss: 0.0220 - mean_squared_error: 0.0220 - val_loss: 0.0247 - val_mean_squared_error: 0.0247\n",
      "Epoch 33/100\n",
      "15/15 [==============================] - 0s 2ms/step - loss: 0.0211 - mean_squared_error: 0.0211 - val_loss: 0.0238 - val_mean_squared_error: 0.0238\n",
      "Epoch 34/100\n",
      "15/15 [==============================] - 0s 1ms/step - loss: 0.0203 - mean_squared_error: 0.0203 - val_loss: 0.0230 - val_mean_squared_error: 0.0230\n",
      "Epoch 35/100\n",
      "15/15 [==============================] - 0s 2ms/step - loss: 0.0196 - mean_squared_error: 0.0196 - val_loss: 0.0223 - val_mean_squared_error: 0.0223\n",
      "Epoch 36/100\n",
      "15/15 [==============================] - 0s 1ms/step - loss: 0.0189 - mean_squared_error: 0.0189 - val_loss: 0.0216 - val_mean_squared_error: 0.0216\n",
      "Epoch 37/100\n",
      "15/15 [==============================] - 0s 1ms/step - loss: 0.0183 - mean_squared_error: 0.0183 - val_loss: 0.0209 - val_mean_squared_error: 0.0209\n",
      "Epoch 38/100\n",
      "15/15 [==============================] - 0s 1ms/step - loss: 0.0177 - mean_squared_error: 0.0177 - val_loss: 0.0203 - val_mean_squared_error: 0.0203\n",
      "Epoch 39/100\n",
      "15/15 [==============================] - 0s 1ms/step - loss: 0.0171 - mean_squared_error: 0.0171 - val_loss: 0.0197 - val_mean_squared_error: 0.0197\n",
      "Epoch 40/100\n",
      "15/15 [==============================] - 0s 1ms/step - loss: 0.0165 - mean_squared_error: 0.0165 - val_loss: 0.0192 - val_mean_squared_error: 0.0192\n",
      "Epoch 41/100\n",
      "15/15 [==============================] - 0s 1ms/step - loss: 0.0160 - mean_squared_error: 0.0160 - val_loss: 0.0186 - val_mean_squared_error: 0.0186\n",
      "Epoch 42/100\n",
      "15/15 [==============================] - 0s 1ms/step - loss: 0.0155 - mean_squared_error: 0.0155 - val_loss: 0.0181 - val_mean_squared_error: 0.0181\n",
      "Epoch 43/100\n",
      "15/15 [==============================] - 0s 1ms/step - loss: 0.0150 - mean_squared_error: 0.0150 - val_loss: 0.0177 - val_mean_squared_error: 0.0177\n",
      "Epoch 44/100\n",
      "15/15 [==============================] - 0s 2ms/step - loss: 0.0146 - mean_squared_error: 0.0146 - val_loss: 0.0173 - val_mean_squared_error: 0.0173\n",
      "Epoch 45/100\n",
      "15/15 [==============================] - 0s 2ms/step - loss: 0.0142 - mean_squared_error: 0.0142 - val_loss: 0.0170 - val_mean_squared_error: 0.0170\n",
      "Epoch 46/100\n",
      "15/15 [==============================] - 0s 1ms/step - loss: 0.0138 - mean_squared_error: 0.0138 - val_loss: 0.0165 - val_mean_squared_error: 0.0165\n",
      "Epoch 47/100\n",
      "15/15 [==============================] - 0s 1ms/step - loss: 0.0133 - mean_squared_error: 0.0133 - val_loss: 0.0161 - val_mean_squared_error: 0.0161\n",
      "Epoch 48/100\n",
      "15/15 [==============================] - 0s 2ms/step - loss: 0.0130 - mean_squared_error: 0.0130 - val_loss: 0.0158 - val_mean_squared_error: 0.0158\n",
      "Epoch 49/100\n",
      "15/15 [==============================] - 0s 1ms/step - loss: 0.0126 - mean_squared_error: 0.0126 - val_loss: 0.0153 - val_mean_squared_error: 0.0153\n",
      "Epoch 50/100\n",
      "15/15 [==============================] - 0s 2ms/step - loss: 0.0123 - mean_squared_error: 0.0123 - val_loss: 0.0149 - val_mean_squared_error: 0.0149\n",
      "Epoch 51/100\n",
      "15/15 [==============================] - 0s 1ms/step - loss: 0.0120 - mean_squared_error: 0.0120 - val_loss: 0.0147 - val_mean_squared_error: 0.0147\n",
      "Epoch 52/100\n",
      "15/15 [==============================] - 0s 1ms/step - loss: 0.0117 - mean_squared_error: 0.0117 - val_loss: 0.0144 - val_mean_squared_error: 0.0144\n",
      "Epoch 53/100\n",
      "15/15 [==============================] - 0s 1ms/step - loss: 0.0114 - mean_squared_error: 0.0114 - val_loss: 0.0139 - val_mean_squared_error: 0.0139\n",
      "Epoch 54/100\n",
      "15/15 [==============================] - 0s 1ms/step - loss: 0.0111 - mean_squared_error: 0.0111 - val_loss: 0.0136 - val_mean_squared_error: 0.0136\n",
      "Epoch 55/100\n",
      "15/15 [==============================] - 0s 1ms/step - loss: 0.0109 - mean_squared_error: 0.0109 - val_loss: 0.0133 - val_mean_squared_error: 0.0133\n",
      "Epoch 56/100\n",
      "15/15 [==============================] - 0s 1ms/step - loss: 0.0106 - mean_squared_error: 0.0106 - val_loss: 0.0131 - val_mean_squared_error: 0.0131\n",
      "Epoch 57/100\n",
      "15/15 [==============================] - 0s 2ms/step - loss: 0.0104 - mean_squared_error: 0.0104 - val_loss: 0.0128 - val_mean_squared_error: 0.0128\n",
      "Epoch 58/100\n",
      "15/15 [==============================] - 0s 1ms/step - loss: 0.0101 - mean_squared_error: 0.0101 - val_loss: 0.0126 - val_mean_squared_error: 0.0126\n",
      "Epoch 59/100\n",
      "15/15 [==============================] - 0s 2ms/step - loss: 0.0099 - mean_squared_error: 0.0099 - val_loss: 0.0124 - val_mean_squared_error: 0.0124\n",
      "Epoch 60/100\n",
      "15/15 [==============================] - 0s 1ms/step - loss: 0.0097 - mean_squared_error: 0.0097 - val_loss: 0.0121 - val_mean_squared_error: 0.0121\n",
      "Epoch 61/100\n",
      "15/15 [==============================] - 0s 1ms/step - loss: 0.0094 - mean_squared_error: 0.0094 - val_loss: 0.0118 - val_mean_squared_error: 0.0118\n",
      "Epoch 62/100\n",
      "15/15 [==============================] - 0s 1ms/step - loss: 0.0092 - mean_squared_error: 0.0092 - val_loss: 0.0116 - val_mean_squared_error: 0.0116\n",
      "Epoch 63/100\n",
      "15/15 [==============================] - 0s 1ms/step - loss: 0.0090 - mean_squared_error: 0.0090 - val_loss: 0.0114 - val_mean_squared_error: 0.0114\n",
      "Epoch 64/100\n",
      "15/15 [==============================] - 0s 1ms/step - loss: 0.0089 - mean_squared_error: 0.0089 - val_loss: 0.0112 - val_mean_squared_error: 0.0112\n",
      "Epoch 65/100\n",
      "15/15 [==============================] - 0s 1ms/step - loss: 0.0087 - mean_squared_error: 0.0087 - val_loss: 0.0110 - val_mean_squared_error: 0.0110\n",
      "Epoch 66/100\n",
      "15/15 [==============================] - 0s 1ms/step - loss: 0.0085 - mean_squared_error: 0.0085 - val_loss: 0.0108 - val_mean_squared_error: 0.0108\n",
      "Epoch 67/100\n",
      "15/15 [==============================] - 0s 1ms/step - loss: 0.0083 - mean_squared_error: 0.0083 - val_loss: 0.0105 - val_mean_squared_error: 0.0105\n",
      "Epoch 68/100\n",
      "15/15 [==============================] - 0s 1ms/step - loss: 0.0082 - mean_squared_error: 0.0082 - val_loss: 0.0104 - val_mean_squared_error: 0.0104\n",
      "Epoch 69/100\n",
      "15/15 [==============================] - 0s 1ms/step - loss: 0.0080 - mean_squared_error: 0.0080 - val_loss: 0.0102 - val_mean_squared_error: 0.0102\n",
      "Epoch 70/100\n",
      "15/15 [==============================] - 0s 1ms/step - loss: 0.0079 - mean_squared_error: 0.0079 - val_loss: 0.0101 - val_mean_squared_error: 0.0101\n",
      "Epoch 71/100\n",
      "15/15 [==============================] - 0s 1ms/step - loss: 0.0077 - mean_squared_error: 0.0077 - val_loss: 0.0100 - val_mean_squared_error: 0.0100\n",
      "Epoch 72/100\n",
      "15/15 [==============================] - 0s 1ms/step - loss: 0.0076 - mean_squared_error: 0.0076 - val_loss: 0.0097 - val_mean_squared_error: 0.0097\n",
      "Epoch 73/100\n",
      "15/15 [==============================] - 0s 2ms/step - loss: 0.0074 - mean_squared_error: 0.0074 - val_loss: 0.0095 - val_mean_squared_error: 0.0095\n",
      "Epoch 74/100\n",
      "15/15 [==============================] - 0s 1ms/step - loss: 0.0073 - mean_squared_error: 0.0073 - val_loss: 0.0093 - val_mean_squared_error: 0.0093\n",
      "Epoch 75/100\n",
      "15/15 [==============================] - 0s 1ms/step - loss: 0.0072 - mean_squared_error: 0.0072 - val_loss: 0.0092 - val_mean_squared_error: 0.0092\n",
      "Epoch 76/100\n",
      "15/15 [==============================] - 0s 1ms/step - loss: 0.0070 - mean_squared_error: 0.0070 - val_loss: 0.0090 - val_mean_squared_error: 0.0090\n",
      "Epoch 77/100\n",
      "15/15 [==============================] - 0s 1ms/step - loss: 0.0069 - mean_squared_error: 0.0069 - val_loss: 0.0088 - val_mean_squared_error: 0.0088\n",
      "Epoch 78/100\n",
      "15/15 [==============================] - 0s 1ms/step - loss: 0.0068 - mean_squared_error: 0.0068 - val_loss: 0.0087 - val_mean_squared_error: 0.0087\n",
      "Epoch 79/100\n",
      "15/15 [==============================] - 0s 1ms/step - loss: 0.0067 - mean_squared_error: 0.0067 - val_loss: 0.0086 - val_mean_squared_error: 0.0086\n",
      "Epoch 80/100\n",
      "15/15 [==============================] - 0s 1ms/step - loss: 0.0066 - mean_squared_error: 0.0066 - val_loss: 0.0084 - val_mean_squared_error: 0.0084\n",
      "Epoch 81/100\n",
      "15/15 [==============================] - 0s 1ms/step - loss: 0.0064 - mean_squared_error: 0.0064 - val_loss: 0.0082 - val_mean_squared_error: 0.0082\n",
      "Epoch 82/100\n",
      "15/15 [==============================] - 0s 1ms/step - loss: 0.0063 - mean_squared_error: 0.0063 - val_loss: 0.0080 - val_mean_squared_error: 0.0080\n",
      "Epoch 83/100\n",
      "15/15 [==============================] - 0s 1ms/step - loss: 0.0062 - mean_squared_error: 0.0062 - val_loss: 0.0079 - val_mean_squared_error: 0.0079\n",
      "Epoch 84/100\n",
      "15/15 [==============================] - 0s 1ms/step - loss: 0.0061 - mean_squared_error: 0.0061 - val_loss: 0.0078 - val_mean_squared_error: 0.0078\n",
      "Epoch 85/100\n",
      "15/15 [==============================] - 0s 2ms/step - loss: 0.0060 - mean_squared_error: 0.0060 - val_loss: 0.0076 - val_mean_squared_error: 0.0076\n",
      "Epoch 86/100\n",
      "15/15 [==============================] - 0s 1ms/step - loss: 0.0059 - mean_squared_error: 0.0059 - val_loss: 0.0074 - val_mean_squared_error: 0.0074\n",
      "Epoch 87/100\n",
      "15/15 [==============================] - 0s 2ms/step - loss: 0.0058 - mean_squared_error: 0.0058 - val_loss: 0.0074 - val_mean_squared_error: 0.0074\n",
      "Epoch 88/100\n",
      "15/15 [==============================] - 0s 1ms/step - loss: 0.0057 - mean_squared_error: 0.0057 - val_loss: 0.0072 - val_mean_squared_error: 0.0072\n",
      "Epoch 89/100\n",
      "15/15 [==============================] - 0s 1ms/step - loss: 0.0056 - mean_squared_error: 0.0056 - val_loss: 0.0070 - val_mean_squared_error: 0.0070\n",
      "Epoch 90/100\n",
      "15/15 [==============================] - 0s 1ms/step - loss: 0.0055 - mean_squared_error: 0.0055 - val_loss: 0.0069 - val_mean_squared_error: 0.0069\n",
      "Epoch 91/100\n",
      "15/15 [==============================] - 0s 2ms/step - loss: 0.0054 - mean_squared_error: 0.0054 - val_loss: 0.0069 - val_mean_squared_error: 0.0069\n",
      "Epoch 92/100\n",
      "15/15 [==============================] - 0s 2ms/step - loss: 0.0053 - mean_squared_error: 0.0053 - val_loss: 0.0067 - val_mean_squared_error: 0.0067\n",
      "Epoch 93/100\n",
      "15/15 [==============================] - 0s 1ms/step - loss: 0.0052 - mean_squared_error: 0.0052 - val_loss: 0.0065 - val_mean_squared_error: 0.0065\n",
      "Epoch 94/100\n",
      "15/15 [==============================] - 0s 1ms/step - loss: 0.0051 - mean_squared_error: 0.0051 - val_loss: 0.0064 - val_mean_squared_error: 0.0064\n",
      "Epoch 95/100\n",
      "15/15 [==============================] - 0s 1ms/step - loss: 0.0051 - mean_squared_error: 0.0051 - val_loss: 0.0063 - val_mean_squared_error: 0.0063\n",
      "Epoch 96/100\n",
      "15/15 [==============================] - 0s 1ms/step - loss: 0.0050 - mean_squared_error: 0.0050 - val_loss: 0.0061 - val_mean_squared_error: 0.0061\n",
      "Epoch 97/100\n",
      "15/15 [==============================] - 0s 2ms/step - loss: 0.0049 - mean_squared_error: 0.0049 - val_loss: 0.0061 - val_mean_squared_error: 0.0061\n",
      "Epoch 98/100\n",
      "15/15 [==============================] - 0s 2ms/step - loss: 0.0048 - mean_squared_error: 0.0048 - val_loss: 0.0060 - val_mean_squared_error: 0.0060\n",
      "Epoch 99/100\n",
      "15/15 [==============================] - 0s 1ms/step - loss: 0.0048 - mean_squared_error: 0.0048 - val_loss: 0.0059 - val_mean_squared_error: 0.0059\n",
      "Epoch 100/100\n",
      "15/15 [==============================] - 0s 1ms/step - loss: 0.0047 - mean_squared_error: 0.0047 - val_loss: 0.0059 - val_mean_squared_error: 0.0059\n"
     ]
    }
   ],
   "source": [
    "print(\"Fit model on training data\")\n",
    "history = model.fit(\n",
    "    x_train,\n",
    "    y_train,\n",
    "    batch_size=64,\n",
    "    epochs=100,\n",
    "    # We pass some validation for\n",
    "    # monitoring validation loss and metrics\n",
    "    # at the end of each epoch\n",
    "    validation_data=(x_val, y_val),\n",
    ")"
   ]
  },
  {
   "cell_type": "code",
   "execution_count": 92,
   "metadata": {},
   "outputs": [],
   "source": [
    "history.history\n",
    "epochs = history.epoch\n",
    "hist = pd.DataFrame(history.history)\n",
    "mse = hist[\"mean_squared_error\"]"
   ]
  },
  {
   "cell_type": "code",
   "execution_count": 93,
   "metadata": {},
   "outputs": [],
   "source": [
    "def plot_the_loss_curve(epochs, mse):\n",
    "    \"\"\"Plot a curve of loss vs. epoch.\"\"\"\n",
    "\n",
    "    plt.figure()\n",
    "    plt.xlabel(\"Epoch\")\n",
    "    plt.ylabel(\"Mean Squared Error\")\n",
    "\n",
    "    plt.plot(epochs, mse, label=\"Loss\")\n",
    "    plt.legend()\n",
    "    plt.ylim([mse.min()*0.95, mse.max() * 1.03])\n",
    "    plt.show()  \n",
    "\n",
    "    print(\"Defined the plot_the_loss_curve function.\")"
   ]
  },
  {
   "cell_type": "code",
   "execution_count": 94,
   "metadata": {},
   "outputs": [
    {
     "data": {
      "image/png": "[encoded data removed]",
      "text/plain": [
       "<Figure size 432x288 with 1 Axes>"
      ]
     },
     "metadata": {
      "needs_background": "light"
     },
     "output_type": "display_data"
    },
    {
     "name": "stdout",
     "output_type": "stream",
     "text": [
      "Defined the plot_the_loss_curve function.\n"
     ]
    }
   ],
   "source": [
    "plot_the_loss_curve(epochs, mse)"
   ]
  },
  {
   "cell_type": "code",
   "execution_count": 95,
   "metadata": {},
   "outputs": [
    {
     "name": "stdout",
     "output_type": "stream",
     "text": [
      "WARNING:tensorflow:6 out of the last 6 calls to <function Model.make_predict_function.<locals>.predict_function at 0x0000028BDF2F1CA0> triggered tf.function retracing. Tracing is expensive and the excessive number of tracings could be due to (1) creating @tf.function repeatedly in a loop, (2) passing tensors with different shapes, (3) passing Python objects instead of tensors. For (1), please define your @tf.function outside of the loop. For (2), @tf.function has experimental_relax_shapes=True option that relaxes argument shapes that can avoid unnecessary retracing. For (3), please refer to https://www.tensorflow.org/tutorials/customization/performance#python_or_tensor_args and https://www.tensorflow.org/api_docs/python/tf/function for  more details.\n",
      "[0.31401446 0.         0.         0.45950034 0.540447   0.63565356\n",
      " 0.61115944 0.53607637]\n",
      "[0.15833333 0.         0.         0.48333333 0.60833333 0.56666667\n",
      " 0.80833333 0.51666667]\n",
      "[0.         0.9177028  0.31202215 0.50239664 0.4934757  0.36134768\n",
      " 0.         0.5702154 ]\n",
      "[0.         0.9        0.43333333 0.625      0.56666667 0.18333333\n",
      " 0.         0.60833333]\n",
      "[0.         0.5332006  0.72556037 0.32545218 0.49615684 0.61015373\n",
      " 0.83832407 0.        ]\n",
      "[0.         0.53333333 0.88333333 0.44166667 0.475      0.59166667\n",
      " 0.875      0.        ]\n",
      "[0.42654175 0.         0.45410335 0.42028156 0.39796433 0.\n",
      " 0.         0.30291238]\n",
      "[0.50833333 0.         0.35833333 0.49166667 0.39166667 0.\n",
      " 0.         0.15833333]\n",
      "[0.33918774 0.58686817 0.58670795 0.56240326 0.41371548 0.\n",
      " 0.01075658 0.        ]\n",
      "[0.43333333 0.63333333 0.54166667 0.65833333 0.475      0.\n",
      " 0.         0.        ]\n",
      "[0.45799    0.5626334  0.         0.5275641  0.22353116 0.\n",
      " 0.00739394 0.46210116]\n",
      "[0.4        0.575      0.         0.525      0.26666667 0.\n",
      " 0.         0.50833333]\n",
      "[0.62626886 0.74583435 0.04837226 0.38085884 0.51208586 0.5727887\n",
      " 0.6256815  0.        ]\n",
      "[0.44166667 0.80833333 0.175      0.53333333 0.56666667 0.46666667\n",
      " 0.45       0.        ]\n",
      "[0.         0.         0.52788484 0.50619805 0.         0.80510575\n",
      " 0.32379726 0.30919433]\n",
      "[0.         0.         0.65       0.56666667 0.         0.76666667\n",
      " 0.275      0.375     ]\n",
      "[0.5213577  0.50107193 0.18571854 0.8323181  0.         0.\n",
      " 0.3388218  0.6208962 ]\n",
      "[0.58333333 0.51666667 0.21666667 0.84166667 0.         0.\n",
      " 0.40833333 0.63333333]\n",
      "[0.45222935 0.         0.6351958  0.5097278  0.50775707 0.6821561\n",
      " 0.3841313  0.6722681 ]\n",
      "[0.50833333 0.         0.58333333 0.475      0.61666667 0.55\n",
      " 0.425      0.6       ]\n"
     ]
    }
   ],
   "source": [
    "predictions = model.predict(x_train[:10])\n",
    "for i in range(10):\n",
    "    print(predictions[i])\n",
    "    print(y_train[i])"
   ]
  },
  {
   "cell_type": "code",
   "execution_count": 96,
   "metadata": {},
   "outputs": [],
   "source": [
    "model.save(\"gradeModel.h5\")"
   ]
  },
  {
   "cell_type": "code",
   "execution_count": 97,
   "metadata": {},
   "outputs": [
    {
     "name": "stdout",
     "output_type": "stream",
     "text": [
      "INFO:tensorflow:Assets written to: C:\\Users\\leeji\\AppData\\Local\\Temp\\tmpu41l4plm\\assets\n"
     ]
    }
   ],
   "source": [
    "# Convert the model.\n",
    "converter = tf.lite.TFLiteConverter.from_keras_model(model)\n",
    "tflite_model = converter.convert()\n",
    "\n",
    "# Save the model.\n",
    "with open('gradeModel.tflite', 'wb') as f:\n",
    "    f.write(tflite_model)\n"
   ]
  },
  {
   "cell_type": "code",
   "execution_count": null,
   "metadata": {},
   "outputs": [],
   "source": []
  }
 ],
 "metadata": {
  "kernelspec": {
   "display_name": "Python 3",
   "language": "python",
   "name": "python3"
  },
  "language_info": {
   "codemirror_mode": {
    "name": "ipython",
    "version": 3
   },
   "file_extension": ".py",
   "mimetype": "text/x-python",
   "name": "python",
   "nbconvert_exporter": "python",
   "pygments_lexer": "ipython3",
   "version": "3.8.6"
  }
 },
 "nbformat": 4,
 "nbformat_minor": 4
}
